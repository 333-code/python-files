{
 "cells": [
  {
   "cell_type": "markdown",
   "metadata": {},
   "source": [
    "# Module 3: Data Structures Assignments\n",
    "## Lesson 3.3: Sets\n",
    "### Assignment 1: Creating and Accessing Sets\n",
    "\n",
    "Create a set with the first 10 positive integers. Print the set.\n",
    "\n",
    "### Assignment 2: Adding and Removing Elements\n",
    "\n",
    "Add the number 11 to the set created in Assignment 1. Then remove the number 1 from the set. Print the modified set.\n",
    "\n",
    "### Assignment 3: Set Operations\n",
    "\n",
    "Create two sets: one with the first 5 positive integers and another with the first 5 even integers. Perform and print the results of union, intersection, difference, and symmetric difference operations on these sets.\n",
    "\n",
    "### Assignment 4: Set Comprehensions\n",
    "\n",
    "Create a new set containing the squares of the first 10 positive integers using a set comprehension. Print the new set.\n",
    "\n",
    "### Assignment 5: Filtering Sets\n",
    "\n",
    "Create a new set containing only the even numbers from the set created in Assignment 1 using a set comprehension. Print the new set.\n",
    "\n",
    "### Assignment 6: Set Methods\n",
    "\n",
    "Create a set with duplicate elements and remove the duplicates using set methods. Print the modified set.\n",
    "\n",
    "### Assignment 7: Subsets and Supersets\n",
    "\n",
    "Create two sets: one with the first 5 positive integers and another with the first 3 positive integers. Check if the second set is a subset of the first set and if the first set is a superset of the second set. Print the results.\n",
    "\n",
    "### Assignment 8: Frozenset\n",
    "\n",
    "Create a frozenset with the first 5 positive integers. Print the frozenset.\n",
    "\n",
    "### Assignment 9: Set and List Conversion\n",
    "\n",
    "Create a set with the first 5 positive integers. Convert it to a list, append the number 6, and convert it back to a set. Print the resulting set.\n",
    "\n",
    "### Assignment 10: Set and Dictionary\n",
    "\n",
    "Create a dictionary with set keys and integer values. Print the dictionary.\n",
    "\n",
    "### Assignment 11: Iterating Over Sets\n",
    "\n",
    "Create a set and iterate over the elements, printing each element.\n",
    "\n",
    "### Assignment 12: Removing Elements from Sets\n",
    "\n",
    "Create a set and remove elements from it until it is empty. Print the set after each removal.\n",
    "\n",
    "### Assignment 13: Set Symmetric Difference Update\n",
    "\n",
    "Create two sets and update the first set with the symmetric difference of the two sets. Print the modified first set.\n",
    "\n",
    "### Assignment 14: Set Membership Testing\n",
    "\n",
    "Create a set and test if certain elements are present in the set. Print the results.\n",
    "\n",
    "### Assignment 15: Set of Tuples\n",
    "\n",
    "Create a set containing tuples, where each tuple contains two elements. Print the set."
   ]
  },
  {
   "cell_type": "markdown",
   "id": "46a7694e",
   "metadata": {},
   "source": [
    "### Assignment 1: Creating and Accessing Sets\n",
    "\n",
    "Create a set with the first 10 positive integers. Print the set."
   ]
  },
  {
   "cell_type": "code",
   "execution_count": 43,
   "metadata": {},
   "outputs": [
    {
     "name": "stdout",
     "output_type": "stream",
     "text": [
      "{1, 2, 3, 4, 5, 6, 7, 8, 9, 10}\n"
     ]
    }
   ],
   "source": [
    "x = set(range(1,11))\n",
    "print(x)"
   ]
  },
  {
   "cell_type": "markdown",
   "id": "ae10111c",
   "metadata": {},
   "source": [
    "### Assignment 2: Adding and Removing Elements\n",
    "\n",
    "Add the number 11 to the set created in Assignment 1. Then remove the number 1 from the set. Print the modified set."
   ]
  },
  {
   "cell_type": "code",
   "execution_count": 44,
   "id": "1f0a8e54",
   "metadata": {},
   "outputs": [
    {
     "name": "stdout",
     "output_type": "stream",
     "text": [
      "{2, 3, 4, 5, 6, 7, 8, 9, 10, 11}\n"
     ]
    }
   ],
   "source": [
    "x = set(range(1,11))\n",
    "x.add(11)\n",
    "x.remove(1)\n",
    "print(x)\n"
   ]
  },
  {
   "cell_type": "markdown",
   "id": "398802dd",
   "metadata": {},
   "source": [
    "### Assignment 3: Set Operations\n",
    "\n",
    "Create two sets: one with the first 5 positive integers and another with the first 5 even integers. Perform and print the results of union, intersection, difference, and symmetric difference operations on these sets.\n"
   ]
  },
  {
   "cell_type": "code",
   "execution_count": 45,
   "id": "36625aa5",
   "metadata": {},
   "outputs": [
    {
     "name": "stdout",
     "output_type": "stream",
     "text": [
      "{1, 2, 3, 4, 5}\n",
      "{2, 4, 6, 8, 10}\n",
      "{1, 2, 3, 4, 5, 6, 8, 10}\n",
      "{2, 4}\n",
      "{1, 3, 5}\n",
      "{1, 3, 5, 6, 8, 10}\n"
     ]
    }
   ],
   "source": [
    "st1 = set(range(1,6))\n",
    "st2 = set(x for x in range(1,11) if x%2==0)\n",
    "print(st1)\n",
    "print(st2)\n",
    "print(st1.union(st2))\n",
    "print(st1.intersection(st2))\n",
    "print(st1.difference(st2))\n",
    "print(st1.symmetric_difference(st2))"
   ]
  },
  {
   "cell_type": "markdown",
   "id": "743df9c5",
   "metadata": {},
   "source": [
    "### Assignment 4: Set Comprehensions\n",
    "\n",
    "Create a new set containing the squares of the first 10 positive integers using a set comprehension. Print the new set.\n"
   ]
  },
  {
   "cell_type": "code",
   "execution_count": 46,
   "id": "2ea9a926",
   "metadata": {},
   "outputs": [
    {
     "name": "stdout",
     "output_type": "stream",
     "text": [
      "{64, 1, 4, 36, 100, 9, 16, 49, 81, 25}\n"
     ]
    }
   ],
   "source": [
    "st = set(x**2 for x in range(1,11))\n",
    "print(st)"
   ]
  },
  {
   "cell_type": "markdown",
   "id": "3d465515",
   "metadata": {},
   "source": [
    "### Assignment 5: Filtering Sets\n",
    "\n",
    "Create a new set containing only the even numbers from the set created in Assignment 1 using a set comprehension. Print the new set."
   ]
  },
  {
   "cell_type": "code",
   "execution_count": 47,
   "id": "0a0aa389",
   "metadata": {},
   "outputs": [
    {
     "name": "stdout",
     "output_type": "stream",
     "text": [
      "{2, 4, 6, 8, 10}\n"
     ]
    }
   ],
   "source": [
    "x= set(x for x in range(1,11) if x%2==0)\n",
    "print(x)"
   ]
  },
  {
   "cell_type": "markdown",
   "id": "0545a6cf",
   "metadata": {},
   "source": [
    "### Assignment 6: Set Methods\n",
    "\n",
    "Create a set with duplicate elements and remove the duplicates using set methods. Print the modified set."
   ]
  },
  {
   "cell_type": "code",
   "execution_count": 48,
   "id": "443b42bf",
   "metadata": {},
   "outputs": [
    {
     "name": "stdout",
     "output_type": "stream",
     "text": [
      "Removing duplicates: {1, 2, 3, 4, 5, 6, 7}\n"
     ]
    }
   ],
   "source": [
    "x = {1,1,2,2,2,3,3,4,4,4,5,5,6,6,7,7,7}\n",
    "print(f\"Removing duplicates: {set(x)}\")"
   ]
  },
  {
   "cell_type": "markdown",
   "id": "ff4ee9d7",
   "metadata": {},
   "source": [
    "### Assignment 7: Subsets and Supersets\n",
    "\n",
    "Create two sets: one with the first 5 positive integers and another with the first 3 positive integers. Check if the second set is a subset of the first set and if the first set is a superset of the second set. Print the results."
   ]
  },
  {
   "cell_type": "code",
   "execution_count": 49,
   "id": "0f9e04cf",
   "metadata": {},
   "outputs": [
    {
     "name": "stdout",
     "output_type": "stream",
     "text": [
      "False\n",
      "True\n"
     ]
    }
   ],
   "source": [
    "st1 = set(range(1,6))\n",
    "st2 = set(range(1,4))\n",
    "print(st1.issubset(st2))\n",
    "print(st1.issuperset(st2))\n"
   ]
  },
  {
   "cell_type": "markdown",
   "id": "87a58bcf",
   "metadata": {},
   "source": [
    "### Assignment 8: Frozenset\n",
    "\n",
    "Create a frozenset with the first 5 positive integers. Print the frozenset."
   ]
  },
  {
   "cell_type": "code",
   "execution_count": 50,
   "id": "ddfdaf14",
   "metadata": {},
   "outputs": [
    {
     "name": "stdout",
     "output_type": "stream",
     "text": [
      "frozenset({1, 2, 3, 4, 5})\n"
     ]
    }
   ],
   "source": [
    "x = frozenset(range(1,6))\n",
    "print(x)"
   ]
  },
  {
   "cell_type": "markdown",
   "id": "f702add1",
   "metadata": {},
   "source": [
    "### Assignment 9: Set and List Conversion\n",
    "\n",
    "Create a set with the first 5 positive integers. Convert it to a list, append the number 6, and convert it back to a set. Print the resulting set."
   ]
  },
  {
   "cell_type": "code",
   "execution_count": 51,
   "id": "e8dfc2f2",
   "metadata": {},
   "outputs": [
    {
     "name": "stdout",
     "output_type": "stream",
     "text": [
      "Before appending: {1, 2, 3, 4, 5}\n",
      "After appending: {1, 2, 3, 4, 5, 6}\n"
     ]
    }
   ],
   "source": [
    "x = set(range(1,6))\n",
    "print(f\"Before appending: {x}\")\n",
    "lst = list(x)\n",
    "lst.append(6)\n",
    "x = set(lst)\n",
    "print(f\"After appending: {x}\")"
   ]
  },
  {
   "cell_type": "markdown",
   "id": "d49a08e4",
   "metadata": {},
   "source": [
    "### Assignment 10: Set and Dictionary\n",
    "\n",
    "Create a dictionary with set keys and integer values. Print the dictionary."
   ]
  },
  {
   "cell_type": "code",
   "execution_count": 1,
   "id": "d9eb3ea4",
   "metadata": {},
   "outputs": [
    {
     "name": "stdout",
     "output_type": "stream",
     "text": [
      "{frozenset({1, 2}): 'a', frozenset({3, 4}): 'b', frozenset({5, 6}): 'c'}\n"
     ]
    }
   ],
   "source": [
    "dict = {\n",
    "    frozenset({1,2}):'a',\n",
    "    frozenset({3,4}):'b',\n",
    "    frozenset({5,6}):'c'\n",
    "    \n",
    "}\n",
    "print(dict)"
   ]
  },
  {
   "cell_type": "markdown",
   "id": "130b35bd",
   "metadata": {},
   "source": [
    "### Assignment 11: Iterating Over Sets\n",
    "\n",
    "Create a set and iterate over the elements, printing each element."
   ]
  },
  {
   "cell_type": "code",
   "execution_count": 6,
   "id": "fd3e24fb",
   "metadata": {},
   "outputs": [
    {
     "name": "stdout",
     "output_type": "stream",
     "text": [
      "1\n",
      "2\n",
      "3\n",
      "4\n",
      "5\n"
     ]
    }
   ],
   "source": [
    "x = set(range(1,6))\n",
    "for i in x:\n",
    "    print(i)"
   ]
  },
  {
   "cell_type": "markdown",
   "id": "39d3e82d",
   "metadata": {},
   "source": [
    "### Assignment 12: Removing Elements from Sets\n",
    "\n",
    "Create a set and remove elements from it until it is empty. Print the set after each removal.\n"
   ]
  },
  {
   "cell_type": "code",
   "execution_count": 7,
   "id": "adea6e2f",
   "metadata": {},
   "outputs": [
    {
     "name": "stdout",
     "output_type": "stream",
     "text": [
      "{2, 3, 4, 5}\n",
      "{3, 4, 5}\n",
      "{4, 5}\n",
      "{5}\n",
      "set()\n"
     ]
    }
   ],
   "source": [
    "x = set(range(1,6))\n",
    "while x:\n",
    "    x.pop()\n",
    "    print(x)"
   ]
  },
  {
   "cell_type": "markdown",
   "id": "cdad3f26",
   "metadata": {},
   "source": [
    "### Assignment 13: Set Symmetric Difference Update\n",
    "\n",
    "Create two sets and update the first set with the symmetric difference of the two sets. Print the modified first set.\n"
   ]
  },
  {
   "cell_type": "code",
   "execution_count": 13,
   "id": "3efa2ee2",
   "metadata": {},
   "outputs": [
    {
     "name": "stdout",
     "output_type": "stream",
     "text": [
      "{1, 2, 4, 5}\n"
     ]
    }
   ],
   "source": [
    "st1 = {1,2,3}\n",
    "st2 = {3,4,5}\n",
    "st1.symmetric_difference_update(st2)\n",
    "print(st1)\n"
   ]
  },
  {
   "cell_type": "markdown",
   "id": "a92cf0d0",
   "metadata": {},
   "source": [
    "### Assignment 14: Set Membership Testing\n",
    "\n",
    "Create a set and test if certain elements are present in the set. Print the results."
   ]
  },
  {
   "cell_type": "code",
   "execution_count": 14,
   "id": "2c3169ec",
   "metadata": {},
   "outputs": [
    {
     "name": "stdout",
     "output_type": "stream",
     "text": [
      "True\n",
      "False\n"
     ]
    }
   ],
   "source": [
    "st1 = {1,2,3}\n",
    "print(1 in st1)\n",
    "print(4 in st1)"
   ]
  },
  {
   "cell_type": "markdown",
   "id": "369b72e0",
   "metadata": {},
   "source": [
    "### Assignment 15: Set of Tuples\n",
    "\n",
    "Create a set containing tuples, where each tuple contains two elements. Print the set."
   ]
  },
  {
   "cell_type": "code",
   "execution_count": 15,
   "id": "82c264cf",
   "metadata": {},
   "outputs": [
    {
     "name": "stdout",
     "output_type": "stream",
     "text": [
      "{(1, 2), (3, 4), (5, 6)}\n"
     ]
    }
   ],
   "source": [
    "x = {\n",
    "    (1,2),\n",
    "    (3,4),\n",
    "    (5,6)\n",
    "}\n",
    "print(x)"
   ]
  },
  {
   "cell_type": "code",
   "execution_count": null,
   "id": "9b557dfe",
   "metadata": {},
   "outputs": [],
   "source": []
  }
 ],
 "metadata": {
  "kernelspec": {
   "display_name": "Python 3",
   "language": "python",
   "name": "python3"
  },
  "language_info": {
   "codemirror_mode": {
    "name": "ipython",
    "version": 3
   },
   "file_extension": ".py",
   "mimetype": "text/x-python",
   "name": "python",
   "nbconvert_exporter": "python",
   "pygments_lexer": "ipython3",
   "version": "3.12.0"
  }
 },
 "nbformat": 4,
 "nbformat_minor": 5
}
