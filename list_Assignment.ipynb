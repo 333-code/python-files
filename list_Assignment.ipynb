{
 "cells": [
  {
   "cell_type": "markdown",
   "metadata": {},
   "source": [
    "# Module 3: Data Structures Assignments\n",
    "## Lesson 3.1: Lists\n",
    "### Assignment 1: Creating and Accessing Lists\n",
    "\n",
    "Create a list of the first 20 positive integers. Print the list.\n",
    "\n",
    "### Assignment 2: Accessing List Elements\n",
    "\n",
    "Print the first, middle, and last elements of the list created in Assignment 1.\n",
    "\n",
    "### Assignment 3: List Slicing\n",
    "\n",
    "Print the first five elements, the last five elements, and the elements from index 5 to 15 of the list created in Assignment 1.\n",
    "\n",
    "### Assignment 4: List Comprehensions\n",
    "\n",
    "Create a new list containing the squares of the first 10 positive integers using a list comprehension. Print the new list.\n",
    "\n",
    "### Assignment 5: Filtering Lists\n",
    "\n",
    "Create a new list containing only the even numbers from the list created in Assignment 1 using a list comprehension. Print the new list.\n",
    "\n",
    "### Assignment 6: List Methods\n",
    "\n",
    "Create a list of random numbers and sort it in ascending and descending order. Remove the duplicates from the list and print the modified list.\n",
    "\n",
    "### Assignment 7: Nested Lists\n",
    "\n",
    "Create a nested list representing a 3x3 matrix and print the matrix. Access and print the element at the second row and third column.\n",
    "\n",
    "### Assignment 8: List of Dictionaries\n",
    "\n",
    "Create a list of dictionaries where each dictionary represents a student with keys 'name' and 'score'. Sort the list of dictionaries by the 'score' in descending order and print the sorted list.\n",
    "\n",
    "### Assignment 9: Matrix Transposition\n",
    "\n",
    "Write a function that takes a 3x3 matrix (nested list) as input and returns its transpose. Print the original and transposed matrices.\n",
    "\n",
    "### Assignment 10: Flattening a Nested List\n",
    "\n",
    "Write a function that takes a nested list and flattens it into a single list. Print the original and flattened lists.\n",
    "\n",
    "### Assignment 11: List Manipulation\n",
    "\n",
    "Create a list of the first 10 positive integers. Remove the elements at indices 2, 4, and 6, and insert the element '99' at index 5. Print the modified list.\n",
    "\n",
    "### Assignment 12: List Zipping\n",
    "\n",
    "Create two lists of the same length. Use the `zip` function to combine these lists into a list of tuples and print the result.\n",
    "\n",
    "### Assignment 13: List Reversal\n",
    "\n",
    "Write a function that takes a list and returns a new list with the elements in reverse order. Print the original and reversed lists.\n",
    "\n",
    "### Assignment 14: List Rotation\n",
    "\n",
    "Write a function that rotates a list by n positions. Print the original and rotated lists.\n",
    "\n",
    "### Assignment 15: List Intersection\n",
    "\n",
    "Write a function that takes two lists and returns a new list containing only the elements that are present in both lists. Print the intersected list."
   ]
  },
  {
   "cell_type": "markdown",
   "id": "25984c06",
   "metadata": {},
   "source": [
    "### Assignment 1: Creating and Accessing Lists\n",
    "\n",
    "Create a list of the first 20 positive integers. Print the list.\n"
   ]
  },
  {
   "cell_type": "code",
   "execution_count": 1,
   "metadata": {},
   "outputs": [
    {
     "name": "stdout",
     "output_type": "stream",
     "text": [
      "[1, 2, 3, 4, 5, 6, 7, 8, 9, 10, 11, 12, 13, 14, 15, 16, 17, 18, 19, 20]\n"
     ]
    }
   ],
   "source": [
    "lst = list(range(1,21))\n",
    "print(lst)"
   ]
  },
  {
   "cell_type": "markdown",
   "id": "80c43e39",
   "metadata": {},
   "source": [
    "## Assignment 2: Accessing List Elements\n",
    "\n",
    "Print the first, middle, and last elements of the list created in Assignment 1."
   ]
  },
  {
   "cell_type": "code",
   "execution_count": 12,
   "id": "d3c0d3fd",
   "metadata": {},
   "outputs": [
    {
     "name": "stdout",
     "output_type": "stream",
     "text": [
      "First Element: 1\n",
      "Middle Element:11\n",
      "Last Element:20\n"
     ]
    }
   ],
   "source": [
    "lst = list(range(1,21))\n",
    "print(f\"First Element: {lst[0]}\")\n",
    "print(f\"Middle Element:{lst[len(lst)//2]}\")\n",
    "print(f\"Last Element:{lst[-1]}\")"
   ]
  },
  {
   "cell_type": "markdown",
   "id": "6682144f",
   "metadata": {},
   "source": [
    "### Assignment 3: List Slicing\n",
    "\n",
    "Print the first five elements, the last five elements, and the elements from index 5 to 15 of the list created in Assignment 1.\n"
   ]
  },
  {
   "cell_type": "code",
   "execution_count": 16,
   "id": "c4f8dd3e",
   "metadata": {},
   "outputs": [
    {
     "name": "stdout",
     "output_type": "stream",
     "text": [
      "The first 5 Elements: [1, 2, 3, 4, 5]\n",
      "The first 5 Elements: [16, 17, 18, 19, 20]\n",
      "The first 5 Elements: [6, 7, 8, 9, 10, 11, 12, 13, 14, 15]\n"
     ]
    }
   ],
   "source": [
    "lst = list(range(1,21))\n",
    "print(f\"The first 5 Elements: {lst[:5]}\")\n",
    "print(f\"The first 5 Elements: {lst[-5:]}\")\n",
    "print(f\"The first 5 Elements: {lst[5:15]}\")"
   ]
  },
  {
   "cell_type": "markdown",
   "id": "14da312d",
   "metadata": {},
   "source": [
    "### Assignment 4: List Comprehensions\n",
    "\n",
    "Create a new list containing the squares of the first 10 positive integers using a list comprehension. Print the new list."
   ]
  },
  {
   "cell_type": "code",
   "execution_count": 18,
   "id": "da676715",
   "metadata": {},
   "outputs": [
    {
     "name": "stdout",
     "output_type": "stream",
     "text": [
      "[0, 1, 4, 9, 16, 25, 36, 49, 64, 81, 100]\n"
     ]
    }
   ],
   "source": [
    "lst = [x**2 for x in range(11)]\n",
    "print(lst)"
   ]
  },
  {
   "cell_type": "markdown",
   "id": "ad1b2d8a",
   "metadata": {},
   "source": [
    "### Assignment 5: Filtering Lists\n",
    "\n",
    "Create a new list containing only the even numbers from the list created in Assignment 1 using a list comprehension. Print the new list."
   ]
  },
  {
   "cell_type": "code",
   "execution_count": 20,
   "id": "e5dc4bee",
   "metadata": {},
   "outputs": [
    {
     "name": "stdout",
     "output_type": "stream",
     "text": [
      "[0, 2, 4, 6, 8, 10]\n"
     ]
    }
   ],
   "source": [
    "evens = [x for x in range(11) if x%2==0]\n",
    "print(evens)"
   ]
  },
  {
   "cell_type": "markdown",
   "id": "ba41d26b",
   "metadata": {},
   "source": [
    "### Assignment 6: List Methods\n",
    "\n",
    "Create a list of random numbers and sort it in ascending and descending order. Remove the duplicates from the list and print the modified list."
   ]
  },
  {
   "cell_type": "code",
   "execution_count": 26,
   "id": "d026f17f",
   "metadata": {},
   "outputs": [
    {
     "name": "stdout",
     "output_type": "stream",
     "text": [
      "Random numbers: [16, 19, 11, 14, 18, 8, 11, 5, 4, 14, 2, 13, 6, 9, 18]\n",
      "Ascending order: [2, 4, 5, 6, 8, 9, 11, 11, 13, 14, 14, 16, 18, 18, 19]\n",
      "Descending Order: [19, 18, 18, 16, 14, 14, 13, 11, 11, 9, 8, 6, 5, 4, 2]\n",
      "Modified Number: {2, 4, 5, 6, 8, 9, 11, 13, 14, 16, 18, 19}\n"
     ]
    }
   ],
   "source": [
    "import random\n",
    "random_numbers =[random.randint(1,20) for _ in range(15)]\n",
    "print(f\"Random numbers: {random_numbers}\")\n",
    "\n",
    "sorted_ascending = sorted(random_numbers)\n",
    "print(f\"Ascending order: {sorted_ascending}\")\n",
    "\n",
    "sorted_descending = sorted(random_numbers, reverse=True) \n",
    "print(f\"Descending Order: {sorted_descending}\")\n",
    "\n",
    "remove_duplicate = set(random_numbers)\n",
    "print(f\"Modified Number: {remove_duplicate}\")"
   ]
  },
  {
   "cell_type": "markdown",
   "id": "7ca01d23",
   "metadata": {},
   "source": [
    "### Assignment 7: Nested Lists\n",
    "\n",
    "Create a nested list representing a 3x3 matrix and print the matrix. Access and print the element at the second row and third column."
   ]
  },
  {
   "cell_type": "code",
   "execution_count": 28,
   "id": "cadd2449",
   "metadata": {},
   "outputs": [
    {
     "name": "stdout",
     "output_type": "stream",
     "text": [
      "matrix\n",
      "[1, 2, 3]\n",
      "[4, 5, 6]\n",
      "[7, 8, 9]\n",
      "The second row and third column: 6\n"
     ]
    }
   ],
   "source": [
    "matrix =[\n",
    "    [1,2,3],\n",
    "    [4,5,6],\n",
    "    [7,8,9]\n",
    "    ]\n",
    "print(f\"matrix\")\n",
    "for row in matrix:\n",
    "    print(row)\n",
    "print(f\"The second row and third column: {matrix[1][2]}\")"
   ]
  },
  {
   "cell_type": "markdown",
   "id": "88e978bb",
   "metadata": {},
   "source": [
    "### Assignment 8: List of Dictionaries\n",
    "\n",
    "Create a list of dictionaries where each dictionary represents a student with keys 'name' and 'score'. Sort the list of dictionaries by the 'score' in descending order and print the sorted list."
   ]
  },
  {
   "cell_type": "code",
   "execution_count": 31,
   "id": "212e3c20",
   "metadata": {},
   "outputs": [
    {
     "name": "stdout",
     "output_type": "stream",
     "text": [
      "Sorted List by Descending Order:\n",
      "{'name': 'bhavya', 'score': 95}\n",
      "{'name': 'Veda', 'score': 75}\n",
      "{'name': 'Jyoo', 'score': 60}\n"
     ]
    }
   ],
   "source": [
    "student = [\n",
    "    {'name':'Veda', 'score':75},\n",
    "    {'name':'Jyoo', 'score':60},\n",
    "    {'name':'bhavya', 'score':95}\n",
    "]\n",
    "sorted_students = sorted(student, key=lambda x:x['score'], reverse=True)\n",
    "print(\"Sorted List by Descending Order:\")\n",
    "for row in sorted_students:\n",
    "    print(row)\n"
   ]
  },
  {
   "cell_type": "markdown",
   "id": "551fcdb9",
   "metadata": {},
   "source": [
    "### Assignment 9: Matrix Transposition\n",
    "\n",
    "Write a function that takes a 3x3 matrix (nested list) as input and returns its transpose. Print the original and transposed matrices."
   ]
  },
  {
   "cell_type": "code",
   "execution_count": 35,
   "id": "94574ac8",
   "metadata": {},
   "outputs": [
    {
     "name": "stdout",
     "output_type": "stream",
     "text": [
      "matrix:\n",
      "[1, 2, 3]\n",
      "[4, 5, 6]\n",
      "[7, 8, 9]\n",
      "Transposed Matrix:\n",
      "[1, 4, 7]\n",
      "[2, 5, 8]\n",
      "[3, 6, 9]\n"
     ]
    }
   ],
   "source": [
    "def transposed_matrix(matrix):\n",
    "    transposed = [[matrix[j][i] for j in range(len(matrix))] for i in range(len(matrix))]\n",
    "    return transposed\n",
    "matrix = [\n",
    "    [1,2,3],\n",
    "    [4,5,6],\n",
    "    [7,8,9]\n",
    "]\n",
    "transposed = transposed_matrix(matrix)\n",
    "print(\"matrix:\")\n",
    "for i in matrix:\n",
    "    print(i)\n",
    "print(\"Transposed Matrix:\")\n",
    "for row in transposed:\n",
    "    print(row)\n"
   ]
  },
  {
   "cell_type": "markdown",
   "id": "1f802fae",
   "metadata": {},
   "source": [
    "### Assignment 10: Flattening a Nested List\n",
    "\n",
    "Write a function that takes a nested list and flattens it into a single list. Print the original and flattened lists."
   ]
  },
  {
   "cell_type": "code",
   "execution_count": 36,
   "id": "d20ce39b",
   "metadata": {},
   "outputs": [
    {
     "name": "stdout",
     "output_type": "stream",
     "text": [
      "Original list\n",
      "[[1, 2, 3], [4, 5, 6], [7, 8, 9]]\n",
      "Transpose Matrix:\n",
      "[1, 2, 3, 4, 5, 6, 7, 8, 9]\n"
     ]
    }
   ],
   "source": [
    "def flatten_list(nested_list):\n",
    "    flat_list = [item for sub_list in nested_list for item in sub_list]\n",
    "    return flat_list\n",
    "nested_list = [\n",
    "    [1,2,3],\n",
    "    [4,5,6],\n",
    "    [7,8,9]\n",
    "]\n",
    "flat_list = flatten_list(nested_list)\n",
    "print(\"Original list\")\n",
    "print(nested_list)\n",
    "print(\"Transpose Matrix:\")\n",
    "print(flat_list)"
   ]
  },
  {
   "cell_type": "markdown",
   "id": "be5d8b06",
   "metadata": {},
   "source": [
    "### Assignment 11: List Manipulation\n",
    "\n",
    "Create a list of the first 10 positive integers. Remove the elements at indices 2, 4, and 6, and insert the element '99' at index 5. Print the modified list."
   ]
  },
  {
   "cell_type": "code",
   "execution_count": 38,
   "id": "77514da1",
   "metadata": {},
   "outputs": [
    {
     "name": "stdout",
     "output_type": "stream",
     "text": [
      "Original list: [1, 2, 3, 4, 5, 6, 7, 8, 9, 10]\n",
      "Modified list: [1, 2, 4, 5, 7, 99, 8, 10]\n"
     ]
    }
   ],
   "source": [
    "lst = list(range(1,11))\n",
    "print(f\"Original list: {lst}\")\n",
    "del lst[2]\n",
    "del lst[4]\n",
    "del lst[6]\n",
    "lst.insert(5,99)\n",
    "print(f\"Modified list: {lst}\")"
   ]
  },
  {
   "cell_type": "markdown",
   "id": "6460bcbc",
   "metadata": {},
   "source": [
    "### Assignment 12: List Zipping\n",
    "\n",
    "Create two lists of the same length. Use the `zip` function to combine these lists into a list of tuples and print the result."
   ]
  },
  {
   "cell_type": "code",
   "execution_count": 39,
   "id": "78d883d9",
   "metadata": {},
   "outputs": [
    {
     "name": "stdout",
     "output_type": "stream",
     "text": [
      "[(1, 'a'), (2, 'b'), (3, 'c'), (4, 'd')]\n"
     ]
    }
   ],
   "source": [
    "lst1 = [1,2,3,4]\n",
    "lst2 = ['a','b','c','d']\n",
    "zipped = list(zip(lst1, lst2))\n",
    "print(zipped)"
   ]
  },
  {
   "cell_type": "markdown",
   "id": "04e91189",
   "metadata": {},
   "source": [
    "### Assignment 13: List Reversal\n",
    "\n",
    "Write a function that takes a list and returns a new list with the elements in reverse order. Print the original and reversed lists."
   ]
  },
  {
   "cell_type": "code",
   "execution_count": 40,
   "id": "f1236d32",
   "metadata": {},
   "outputs": [
    {
     "name": "stdout",
     "output_type": "stream",
     "text": [
      "Original list: [1, 2, 3, 4, 5]\n",
      "duplicate list: [5, 4, 3, 2, 1]\n"
     ]
    }
   ],
   "source": [
    "def reverse_lst(lst):\n",
    "    lst = lst[::-1]\n",
    "    return lst\n",
    "original_list = [1,2,3,4,5]\n",
    "reversed_lst = reverse_lst(original_list)\n",
    "print(f\"Original list: {original_list}\")\n",
    "print(f\"duplicate list: {reversed_lst}\")"
   ]
  },
  {
   "cell_type": "markdown",
   "id": "c8bf3c1c",
   "metadata": {},
   "source": [
    "### Assignment 14: List Rotation\n",
    "\n",
    "Write a function that rotates a list by n positions. Print the original and rotated lists."
   ]
  },
  {
   "cell_type": "code",
   "execution_count": 43,
   "id": "93e4f84d",
   "metadata": {},
   "outputs": [
    {
     "name": "stdout",
     "output_type": "stream",
     "text": [
      "Original list: [1, 2, 3, 4, 5]\n",
      "Rotate list: [3, 4, 5, 1, 2]\n"
     ]
    }
   ],
   "source": [
    "def rotate_lst(lst,n):\n",
    "    lst = lst[n:]+lst[:n]\n",
    "    return lst\n",
    "original_list = [1,2,3,4,5]\n",
    "rotate_list= rotate_lst(original_list,2)\n",
    "print(f\"Original list: {original_list}\")\n",
    "print(f\"Rotate list: {rotate_list}\")\n"
   ]
  },
  {
   "cell_type": "markdown",
   "id": "71b53b50",
   "metadata": {},
   "source": [
    "### Assignment 15: List Intersection\n",
    "\n",
    "Write a function that takes two lists and returns a new list containing only the elements that are present in both lists. Print the intersected list."
   ]
  },
  {
   "cell_type": "code",
   "execution_count": 48,
   "id": "610509bd",
   "metadata": {},
   "outputs": [
    {
     "name": "stdout",
     "output_type": "stream",
     "text": [
      "List1 :[1, 2, 3, 4, 5, 6]\n",
      "List2 : [2, 3, 4, 5, 6]\n",
      "Intersection: [2, 3, 4, 5, 6]\n"
     ]
    }
   ],
   "source": [
    "def list_intersection(lst1,lst2):\n",
    "    return[x for x in lst1 if x in lst2]\n",
    "lst1 = [1,2,3,4,5,6]\n",
    "lst2 = [2,3,4,5,6]\n",
    "intersection = list_intersection(lst1,lst2)\n",
    "print(f\"List1 :{lst1}\")\n",
    "print(f\"List2 : {lst2}\")\n",
    "print(f\"Intersection: {intersection}\")"
   ]
  },
  {
   "cell_type": "code",
   "execution_count": null,
   "id": "b2da95d9",
   "metadata": {},
   "outputs": [],
   "source": []
  }
 ],
 "metadata": {
  "kernelspec": {
   "display_name": "Python 3",
   "language": "python",
   "name": "python3"
  },
  "language_info": {
   "codemirror_mode": {
    "name": "ipython",
    "version": 3
   },
   "file_extension": ".py",
   "mimetype": "text/x-python",
   "name": "python",
   "nbconvert_exporter": "python",
   "pygments_lexer": "ipython3",
   "version": "3.12.0"
  }
 },
 "nbformat": 4,
 "nbformat_minor": 5
}
